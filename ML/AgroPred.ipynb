{
  "nbformat": 4,
  "nbformat_minor": 0,
  "metadata": {
    "colab": {
      "provenance": [],
      "gpuType": "T4"
    },
    "kernelspec": {
      "name": "python3",
      "display_name": "Python 3"
    },
    "language_info": {
      "name": "python"
    },
    "accelerator": "GPU"
  },
  "cells": [
    {
      "cell_type": "code",
      "execution_count": null,
      "metadata": {
        "id": "sxJTNEjnYer7"
      },
      "outputs": [],
      "source": [
        "from google.colab import drive\n",
        "import pandas as pd\n",
        "import numpy as np\n",
        "import sklearn\n",
        "from sklearn.preprocessing import LabelEncoder\n",
        "from sklearn import preprocessing\n",
        "from sklearn.datasets import make_regression\n",
        "from sklearn.ensemble import RandomForestRegressor\n",
        "from sklearn.ensemble import RandomForestRegressor\n",
        "import joblib"
      ]
    },
    {
      "cell_type": "markdown",
      "source": [
        "Importing the dataset and preprocessing."
      ],
      "metadata": {
        "id": "bXKdgpyM9gXe"
      }
    },
    {
      "cell_type": "code",
      "source": [
        "drive.mount('/content/drive')\n",
        "url = '/content/drive/MyDrive/India Agriculture Crop Production.csv'\n",
        "df = pd.read_csv(url)\n",
        "df = df.drop(columns=['Year','Area Units','Production Units','Yield'])\n",
        "features = [\"State\", \"District\", \"Crop\", \"Season\", \"Area\"]\n",
        "df = df.dropna()\n",
        "df[[\"State\", \"District\", \"Crop\", \"Season\" ]] = df[[\"State\", \"District\", \"Crop\", \"Season\"]].apply(LabelEncoder().fit_transform)"
      ],
      "metadata": {
        "colab": {
          "base_uri": "https://localhost:8080/"
        },
        "id": "Kpr-AOXFYwgY",
        "outputId": "4e9df8a6-b6ac-4337-c8b3-8b999e0bf870"
      },
      "execution_count": null,
      "outputs": [
        {
          "output_type": "stream",
          "name": "stdout",
          "text": [
            "Mounted at /content/drive\n"
          ]
        }
      ]
    },
    {
      "cell_type": "code",
      "source": [
        "df"
      ],
      "metadata": {
        "colab": {
          "base_uri": "https://localhost:8080/",
          "height": 423
        },
        "id": "qrnmqlhTKloj",
        "outputId": "5487b1a5-ef20-412f-a02b-e1f89fdb9857"
      },
      "execution_count": null,
      "outputs": [
        {
          "output_type": "execute_result",
          "data": {
            "text/plain": [
              "        State  District  Crop  Season    Area  Production\n",
              "0           0       481     0       1  1254.0      2061.0\n",
              "1           0       481     0       4  1258.0      2083.0\n",
              "2           0       481     0       4  1261.0      1525.0\n",
              "3           0       485     0       1  3100.0      5239.0\n",
              "4           0       627     0       4  3105.0      5267.0\n",
              "...       ...       ...   ...     ...     ...         ...\n",
              "345370     35       527    54       2  6310.0     15280.0\n",
              "345371     35       531    54       2  1895.0      2760.0\n",
              "345372     35       531    54       2  3736.0      5530.0\n",
              "345373     35       531    54       2  2752.0      6928.0\n",
              "345374     35       531    54       2  2979.0      7430.0\n",
              "\n",
              "[340414 rows x 6 columns]"
            ],
            "text/html": [
              "\n",
              "\n",
              "  <div id=\"df-470b5237-b3b7-4fe0-a1e8-5f12da3ba5bc\">\n",
              "    <div class=\"colab-df-container\">\n",
              "      <div>\n",
              "<style scoped>\n",
              "    .dataframe tbody tr th:only-of-type {\n",
              "        vertical-align: middle;\n",
              "    }\n",
              "\n",
              "    .dataframe tbody tr th {\n",
              "        vertical-align: top;\n",
              "    }\n",
              "\n",
              "    .dataframe thead th {\n",
              "        text-align: right;\n",
              "    }\n",
              "</style>\n",
              "<table border=\"1\" class=\"dataframe\">\n",
              "  <thead>\n",
              "    <tr style=\"text-align: right;\">\n",
              "      <th></th>\n",
              "      <th>State</th>\n",
              "      <th>District</th>\n",
              "      <th>Crop</th>\n",
              "      <th>Season</th>\n",
              "      <th>Area</th>\n",
              "      <th>Production</th>\n",
              "    </tr>\n",
              "  </thead>\n",
              "  <tbody>\n",
              "    <tr>\n",
              "      <th>0</th>\n",
              "      <td>0</td>\n",
              "      <td>481</td>\n",
              "      <td>0</td>\n",
              "      <td>1</td>\n",
              "      <td>1254.0</td>\n",
              "      <td>2061.0</td>\n",
              "    </tr>\n",
              "    <tr>\n",
              "      <th>1</th>\n",
              "      <td>0</td>\n",
              "      <td>481</td>\n",
              "      <td>0</td>\n",
              "      <td>4</td>\n",
              "      <td>1258.0</td>\n",
              "      <td>2083.0</td>\n",
              "    </tr>\n",
              "    <tr>\n",
              "      <th>2</th>\n",
              "      <td>0</td>\n",
              "      <td>481</td>\n",
              "      <td>0</td>\n",
              "      <td>4</td>\n",
              "      <td>1261.0</td>\n",
              "      <td>1525.0</td>\n",
              "    </tr>\n",
              "    <tr>\n",
              "      <th>3</th>\n",
              "      <td>0</td>\n",
              "      <td>485</td>\n",
              "      <td>0</td>\n",
              "      <td>1</td>\n",
              "      <td>3100.0</td>\n",
              "      <td>5239.0</td>\n",
              "    </tr>\n",
              "    <tr>\n",
              "      <th>4</th>\n",
              "      <td>0</td>\n",
              "      <td>627</td>\n",
              "      <td>0</td>\n",
              "      <td>4</td>\n",
              "      <td>3105.0</td>\n",
              "      <td>5267.0</td>\n",
              "    </tr>\n",
              "    <tr>\n",
              "      <th>...</th>\n",
              "      <td>...</td>\n",
              "      <td>...</td>\n",
              "      <td>...</td>\n",
              "      <td>...</td>\n",
              "      <td>...</td>\n",
              "      <td>...</td>\n",
              "    </tr>\n",
              "    <tr>\n",
              "      <th>345370</th>\n",
              "      <td>35</td>\n",
              "      <td>527</td>\n",
              "      <td>54</td>\n",
              "      <td>2</td>\n",
              "      <td>6310.0</td>\n",
              "      <td>15280.0</td>\n",
              "    </tr>\n",
              "    <tr>\n",
              "      <th>345371</th>\n",
              "      <td>35</td>\n",
              "      <td>531</td>\n",
              "      <td>54</td>\n",
              "      <td>2</td>\n",
              "      <td>1895.0</td>\n",
              "      <td>2760.0</td>\n",
              "    </tr>\n",
              "    <tr>\n",
              "      <th>345372</th>\n",
              "      <td>35</td>\n",
              "      <td>531</td>\n",
              "      <td>54</td>\n",
              "      <td>2</td>\n",
              "      <td>3736.0</td>\n",
              "      <td>5530.0</td>\n",
              "    </tr>\n",
              "    <tr>\n",
              "      <th>345373</th>\n",
              "      <td>35</td>\n",
              "      <td>531</td>\n",
              "      <td>54</td>\n",
              "      <td>2</td>\n",
              "      <td>2752.0</td>\n",
              "      <td>6928.0</td>\n",
              "    </tr>\n",
              "    <tr>\n",
              "      <th>345374</th>\n",
              "      <td>35</td>\n",
              "      <td>531</td>\n",
              "      <td>54</td>\n",
              "      <td>2</td>\n",
              "      <td>2979.0</td>\n",
              "      <td>7430.0</td>\n",
              "    </tr>\n",
              "  </tbody>\n",
              "</table>\n",
              "<p>340414 rows × 6 columns</p>\n",
              "</div>\n",
              "      <button class=\"colab-df-convert\" onclick=\"convertToInteractive('df-470b5237-b3b7-4fe0-a1e8-5f12da3ba5bc')\"\n",
              "              title=\"Convert this dataframe to an interactive table.\"\n",
              "              style=\"display:none;\">\n",
              "\n",
              "  <svg xmlns=\"http://www.w3.org/2000/svg\" height=\"24px\"viewBox=\"0 0 24 24\"\n",
              "       width=\"24px\">\n",
              "    <path d=\"M0 0h24v24H0V0z\" fill=\"none\"/>\n",
              "    <path d=\"M18.56 5.44l.94 2.06.94-2.06 2.06-.94-2.06-.94-.94-2.06-.94 2.06-2.06.94zm-11 1L8.5 8.5l.94-2.06 2.06-.94-2.06-.94L8.5 2.5l-.94 2.06-2.06.94zm10 10l.94 2.06.94-2.06 2.06-.94-2.06-.94-.94-2.06-.94 2.06-2.06.94z\"/><path d=\"M17.41 7.96l-1.37-1.37c-.4-.4-.92-.59-1.43-.59-.52 0-1.04.2-1.43.59L10.3 9.45l-7.72 7.72c-.78.78-.78 2.05 0 2.83L4 21.41c.39.39.9.59 1.41.59.51 0 1.02-.2 1.41-.59l7.78-7.78 2.81-2.81c.8-.78.8-2.07 0-2.86zM5.41 20L4 18.59l7.72-7.72 1.47 1.35L5.41 20z\"/>\n",
              "  </svg>\n",
              "      </button>\n",
              "\n",
              "\n",
              "\n",
              "    <div id=\"df-33a09c6d-53db-46f5-a016-fc19f4c2aa81\">\n",
              "      <button class=\"colab-df-quickchart\" onclick=\"quickchart('df-33a09c6d-53db-46f5-a016-fc19f4c2aa81')\"\n",
              "              title=\"Suggest charts.\"\n",
              "              style=\"display:none;\">\n",
              "\n",
              "<svg xmlns=\"http://www.w3.org/2000/svg\" height=\"24px\"viewBox=\"0 0 24 24\"\n",
              "     width=\"24px\">\n",
              "    <g>\n",
              "        <path d=\"M19 3H5c-1.1 0-2 .9-2 2v14c0 1.1.9 2 2 2h14c1.1 0 2-.9 2-2V5c0-1.1-.9-2-2-2zM9 17H7v-7h2v7zm4 0h-2V7h2v10zm4 0h-2v-4h2v4z\"/>\n",
              "    </g>\n",
              "</svg>\n",
              "      </button>\n",
              "    </div>\n",
              "\n",
              "<style>\n",
              "  .colab-df-quickchart {\n",
              "    background-color: #E8F0FE;\n",
              "    border: none;\n",
              "    border-radius: 50%;\n",
              "    cursor: pointer;\n",
              "    display: none;\n",
              "    fill: #1967D2;\n",
              "    height: 32px;\n",
              "    padding: 0 0 0 0;\n",
              "    width: 32px;\n",
              "  }\n",
              "\n",
              "  .colab-df-quickchart:hover {\n",
              "    background-color: #E2EBFA;\n",
              "    box-shadow: 0px 1px 2px rgba(60, 64, 67, 0.3), 0px 1px 3px 1px rgba(60, 64, 67, 0.15);\n",
              "    fill: #174EA6;\n",
              "  }\n",
              "\n",
              "  [theme=dark] .colab-df-quickchart {\n",
              "    background-color: #3B4455;\n",
              "    fill: #D2E3FC;\n",
              "  }\n",
              "\n",
              "  [theme=dark] .colab-df-quickchart:hover {\n",
              "    background-color: #434B5C;\n",
              "    box-shadow: 0px 1px 3px 1px rgba(0, 0, 0, 0.15);\n",
              "    filter: drop-shadow(0px 1px 2px rgba(0, 0, 0, 0.3));\n",
              "    fill: #FFFFFF;\n",
              "  }\n",
              "</style>\n",
              "\n",
              "    <script>\n",
              "      async function quickchart(key) {\n",
              "        const containerElement = document.querySelector('#' + key);\n",
              "        const charts = await google.colab.kernel.invokeFunction(\n",
              "            'suggestCharts', [key], {});\n",
              "      }\n",
              "    </script>\n",
              "\n",
              "      <script>\n",
              "\n",
              "function displayQuickchartButton(domScope) {\n",
              "  let quickchartButtonEl =\n",
              "    domScope.querySelector('#df-33a09c6d-53db-46f5-a016-fc19f4c2aa81 button.colab-df-quickchart');\n",
              "  quickchartButtonEl.style.display =\n",
              "    google.colab.kernel.accessAllowed ? 'block' : 'none';\n",
              "}\n",
              "\n",
              "        displayQuickchartButton(document);\n",
              "      </script>\n",
              "      <style>\n",
              "    .colab-df-container {\n",
              "      display:flex;\n",
              "      flex-wrap:wrap;\n",
              "      gap: 12px;\n",
              "    }\n",
              "\n",
              "    .colab-df-convert {\n",
              "      background-color: #E8F0FE;\n",
              "      border: none;\n",
              "      border-radius: 50%;\n",
              "      cursor: pointer;\n",
              "      display: none;\n",
              "      fill: #1967D2;\n",
              "      height: 32px;\n",
              "      padding: 0 0 0 0;\n",
              "      width: 32px;\n",
              "    }\n",
              "\n",
              "    .colab-df-convert:hover {\n",
              "      background-color: #E2EBFA;\n",
              "      box-shadow: 0px 1px 2px rgba(60, 64, 67, 0.3), 0px 1px 3px 1px rgba(60, 64, 67, 0.15);\n",
              "      fill: #174EA6;\n",
              "    }\n",
              "\n",
              "    [theme=dark] .colab-df-convert {\n",
              "      background-color: #3B4455;\n",
              "      fill: #D2E3FC;\n",
              "    }\n",
              "\n",
              "    [theme=dark] .colab-df-convert:hover {\n",
              "      background-color: #434B5C;\n",
              "      box-shadow: 0px 1px 3px 1px rgba(0, 0, 0, 0.15);\n",
              "      filter: drop-shadow(0px 1px 2px rgba(0, 0, 0, 0.3));\n",
              "      fill: #FFFFFF;\n",
              "    }\n",
              "  </style>\n",
              "\n",
              "      <script>\n",
              "        const buttonEl =\n",
              "          document.querySelector('#df-470b5237-b3b7-4fe0-a1e8-5f12da3ba5bc button.colab-df-convert');\n",
              "        buttonEl.style.display =\n",
              "          google.colab.kernel.accessAllowed ? 'block' : 'none';\n",
              "\n",
              "        async function convertToInteractive(key) {\n",
              "          const element = document.querySelector('#df-470b5237-b3b7-4fe0-a1e8-5f12da3ba5bc');\n",
              "          const dataTable =\n",
              "            await google.colab.kernel.invokeFunction('convertToInteractive',\n",
              "                                                     [key], {});\n",
              "          if (!dataTable) return;\n",
              "\n",
              "          const docLinkHtml = 'Like what you see? Visit the ' +\n",
              "            '<a target=\"_blank\" href=https://colab.research.google.com/notebooks/data_table.ipynb>data table notebook</a>'\n",
              "            + ' to learn more about interactive tables.';\n",
              "          element.innerHTML = '';\n",
              "          dataTable['output_type'] = 'display_data';\n",
              "          await google.colab.output.renderOutput(dataTable, element);\n",
              "          const docLink = document.createElement('div');\n",
              "          docLink.innerHTML = docLinkHtml;\n",
              "          element.appendChild(docLink);\n",
              "        }\n",
              "      </script>\n",
              "    </div>\n",
              "  </div>\n"
            ]
          },
          "metadata": {},
          "execution_count": 3
        }
      ]
    },
    {
      "cell_type": "markdown",
      "source": [
        "Training Random Forest Regressor."
      ],
      "metadata": {
        "id": "NGgk_Hd-9tUQ"
      }
    },
    {
      "cell_type": "code",
      "source": [
        "model = RandomForestRegressor()\n",
        "model.fit(df[features], df[\"Production\"])\n",
        "model.score(df[features],df[\"Production\"])"
      ],
      "metadata": {
        "colab": {
          "base_uri": "https://localhost:8080/"
        },
        "id": "7rSy_wHvMqQd",
        "outputId": "3e22c84b-0215-4490-9d40-1f1d02112294"
      },
      "execution_count": null,
      "outputs": [
        {
          "output_type": "execute_result",
          "data": {
            "text/plain": [
              "0.9933216425988927"
            ]
          },
          "metadata": {},
          "execution_count": 4
        }
      ]
    },
    {
      "cell_type": "markdown",
      "source": [
        "Dumping the model to a jobfile."
      ],
      "metadata": {
        "id": "A4kVT8Kw_0Sn"
      }
    },
    {
      "cell_type": "code",
      "source": [
        "filename = 'random_forest_model.joblib'\n",
        "joblib.dump(model, filename)"
      ],
      "metadata": {
        "id": "3ERujs7A_3em"
      },
      "execution_count": null,
      "outputs": []
    },
    {
      "cell_type": "markdown",
      "source": [
        "To get encoded values."
      ],
      "metadata": {
        "id": "ORfHNFBw_IxU"
      }
    },
    {
      "cell_type": "code",
      "source": [
        "url = '/content/drive/MyDrive/India Agriculture Crop Production.csv'\n",
        "df = pd.read_csv(url)\n",
        "df = df.drop(columns=['Year','Area Units','Production Units','Yield'])\n",
        "features = [\"State\", \"District\", \"Crop\", \"Season\", \"Area\"]\n",
        "df = df.dropna()\n",
        "\n",
        "le = preprocessing.LabelEncoder()\n",
        "le.fit(df['State'])\n",
        "le_name_mapping = dict(zip(le.classes_, le.transform(le.classes_)))\n",
        "print(le_name_mapping)\n",
        "\n",
        "le = preprocessing.LabelEncoder()\n",
        "le.fit(df['District'])\n",
        "le_name_mapping = dict(zip(le.classes_, le.transform(le.classes_)))\n",
        "print(le_name_mapping)\n",
        "\n",
        "le = preprocessing.LabelEncoder()\n",
        "le.fit(df['Crop'])\n",
        "le_name_mapping = dict(zip(le.classes_, le.transform(le.classes_)))\n",
        "print(le_name_mapping)\n",
        "\n",
        "le = preprocessing.LabelEncoder()\n",
        "le.fit(df['Season'])\n",
        "le_name_mapping = dict(zip(le.classes_, le.transform(le.classes_)))\n",
        "print(le_name_mapping)"
      ],
      "metadata": {
        "colab": {
          "base_uri": "https://localhost:8080/"
        },
        "id": "ym3B361tvonL",
        "outputId": "8ef0ecc2-dafa-4723-8ae0-a700075596d4"
      },
      "execution_count": null,
      "outputs": [
        {
          "output_type": "stream",
          "name": "stdout",
          "text": [
            "{'Andaman and Nicobar Islands': 0, 'Andhra Pradesh': 1, 'Arunachal Pradesh': 2, 'Assam': 3, 'Bihar': 4, 'Chandigarh': 5, 'Chhattisgarh': 6, 'Dadra and Nagar Haveli': 7, 'Daman and Diu': 8, 'Delhi': 9, 'Goa': 10, 'Gujarat': 11, 'Haryana': 12, 'Himachal Pradesh': 13, 'Jammu and Kashmir': 14, 'Jharkhand': 15, 'Karnataka': 16, 'Kerala': 17, 'Laddakh': 18, 'Madhya Pradesh': 19, 'Maharashtra': 20, 'Manipur': 21, 'Meghalaya': 22, 'Mizoram': 23, 'Nagaland': 24, 'Odisha': 25, 'Puducherry': 26, 'Punjab': 27, 'Rajasthan': 28, 'Sikkim': 29, 'Tamil Nadu': 30, 'Telangana': 31, 'Tripura': 32, 'Uttar Pradesh': 33, 'Uttarakhand': 34, 'West Bengal': 35}\n",
            "{'24 PARAGANAS NORTH': 0, '24 PARAGANAS SOUTH': 1, 'ADILABAD': 2, 'AGAR MALWA': 3, 'AGRA': 4, 'AHMADABAD': 5, 'AHMEDNAGAR': 6, 'AIZAWL': 7, 'AJMER': 8, 'AKOLA': 9, 'ALAPPUZHA': 10, 'ALIGARH': 11, 'ALIPURDUAR': 12, 'ALIRAJPUR': 13, 'ALLAHABAD': 14, 'ALMORA': 15, 'ALWAR': 16, 'AMBALA': 17, 'AMBEDKAR NAGAR': 18, 'AMETHI': 19, 'AMRAVATI': 20, 'AMRELI': 21, 'AMRITSAR': 22, 'AMROHA': 23, 'ANAND': 24, 'ANANTAPUR': 25, 'ANANTNAG': 26, 'ANJAW': 27, 'ANUGUL': 28, 'ANUPPUR': 29, 'ARARIA': 30, 'ARAVALLI': 31, 'ARIYALUR': 32, 'ARWAL': 33, 'ASHOKNAGAR': 34, 'AURAIYA': 35, 'AURANGABAD': 36, 'AZAMGARH': 37, 'Andaman and Nicobar Islands': 38, 'BADGAM': 39, 'BAGALKOT': 40, 'BAGALKOTE': 41, 'BAGESHWAR': 42, 'BAGHPAT': 43, 'BAHRAICH': 44, 'BAKSA': 45, 'BALAGHAT': 46, 'BALANGIR': 47, 'BALESHWAR': 48, 'BALLARI': 49, 'BALLIA': 50, 'BALOD': 51, 'BALODA BAZAR': 52, 'BALRAMPUR': 53, 'BANAS KANTHA': 54, 'BANDA': 55, 'BANDIPORA': 56, 'BANGALORE RURAL': 57, 'BANKA': 58, 'BANKURA': 59, 'BANSWARA': 60, 'BARABANKI': 61, 'BARAMULLA': 62, 'BARAN': 63, 'BAREILLY': 64, 'BARGARH': 65, 'BARMER': 66, 'BARNALA': 67, 'BARPETA': 68, 'BARWANI': 69, 'BASTAR': 70, 'BASTI': 71, 'BATHINDA': 72, 'BEED': 73, 'BEGUSARAI': 74, 'BELAGAVI': 75, 'BELGAUM': 76, 'BELLARY': 77, 'BEMETARA': 78, 'BENGALURU URBAN': 79, 'BETUL': 80, 'BHADRADRI': 81, 'BHADRAK': 82, 'BHAGALPUR': 83, 'BHANDARA': 84, 'BHARATPUR': 85, 'BHARUCH': 86, 'BHAVNAGAR': 87, 'BHILWARA': 88, 'BHIND': 89, 'BHIWANI': 90, 'BHOJPUR': 91, 'BHOPAL': 92, 'BIDAR': 93, 'BIJAPUR': 94, 'BIJNOR': 95, 'BIKANER': 96, 'BILASPUR': 97, 'BIRBHUM': 98, 'BISHNUPUR': 99, 'BISWANATH': 100, 'BOKARO': 101, 'BONGAIGAON': 102, 'BOTAD': 103, 'BOUDH': 104, 'BUDAUN': 105, 'BULANDSHAHR': 106, 'BULDHANA': 107, 'BUNDI': 108, 'BURHANPUR': 109, 'BUXAR': 110, 'CACHAR': 111, 'CHAMARAJANAGAR': 112, 'CHAMARAJANAGARA': 113, 'CHAMBA': 114, 'CHAMOLI': 115, 'CHAMPAWAT': 116, 'CHAMPHAI': 117, 'CHANDAULI': 118, 'CHANDEL': 119, 'CHANDIGARH': 120, 'CHANDRAPUR': 121, 'CHANGLANG': 122, 'CHARAIDEO': 123, 'CHARKI DADRI': 124, 'CHATRA': 125, 'CHENGALPATTU': 126, 'CHENNAI': 127, 'CHHATARPUR': 128, 'CHHINDWARA': 129, 'CHHOTAUDEPUR': 130, 'CHIKBALLAPUR': 131, 'CHIKKABALLAPURA': 132, 'CHIKKAMAGALURU': 133, 'CHIKMAGALUR': 134, 'CHIRANG': 135, 'CHITRADURGA': 136, 'CHITRAKOOT': 137, 'CHITTOOR': 138, 'CHITTORGARH': 139, 'CHURACHANDPUR': 140, 'CHURU': 141, 'COIMBATORE': 142, 'COOCHBEHAR': 143, 'CUDDALORE': 144, 'CUTTACK': 145, 'DADRA AND NAGAR HAVELI': 146, 'DAKSHIN KANNAD': 147, 'DAKSHINA KANNADA': 148, 'DAMAN': 149, 'DAMOH': 150, 'DANG': 151, 'DANTEWADA': 152, 'DARBHANGA': 153, 'DARJEELING': 154, 'DARRANG': 155, 'DATIA': 156, 'DAUSA': 157, 'DAVANGERE': 158, 'DEHRADUN': 159, 'DELHI_TOTAL': 160, 'DEOGARH': 161, 'DEOGHAR': 162, 'DEORIA': 163, 'DEVBHUMI DWARKA': 164, 'DEWAS': 165, 'DHALAI': 166, 'DHAMTARI': 167, 'DHANBAD': 168, 'DHAR': 169, 'DHARMAPURI': 170, 'DHARWAD': 171, 'DHEMAJI': 172, 'DHENKANAL': 173, 'DHOLPUR': 174, 'DHUBRI': 175, 'DHULE': 176, 'DIBANG VALLEY': 177, 'DIBRUGARH': 178, 'DIMA HASAO': 179, 'DIMAPUR': 180, 'DINAJPUR DAKSHIN': 181, 'DINAJPUR UTTAR': 182, 'DINDIGUL': 183, 'DINDORI': 184, 'DIU': 185, 'DODA': 186, 'DOHAD': 187, 'DUMKA': 188, 'DUNGARPUR': 189, 'DURG': 190, 'Daman and Diu': 191, 'Delhi': 192, 'EAST DISTRICT': 193, 'EAST GARO HILLS': 194, 'EAST GODAVARI': 195, 'EAST JAINTIA HILLS': 196, 'EAST KAMENG': 197, 'EAST KHASI HILLS': 198, 'EAST SIANG': 199, 'EAST SINGHBUM': 200, 'ERNAKULAM': 201, 'ERODE': 202, 'ETAH': 203, 'ETAWAH': 204, 'FAIZABAD': 205, 'FARIDABAD': 206, 'FARIDKOT': 207, 'FARRUKHABAD': 208, 'FATEHABAD': 209, 'FATEHGARH SAHIB': 210, 'FATEHPUR': 211, 'FAZILKA': 212, 'FIROZABAD': 213, 'FIROZEPUR': 214, 'GADAG': 215, 'GADCHIROLI': 216, 'GAJAPATI': 217, 'GANDERBAL': 218, 'GANDHINAGAR': 219, 'GANGANAGAR': 220, 'GANJAM': 221, 'GARHWA': 222, 'GARIYABAND': 223, 'GAURELLA-PENDRA-MARWAHI': 224, 'GAUTAM BUDDHA NAGAR': 225, 'GAYA': 226, 'GHAZIABAD': 227, 'GHAZIPUR': 228, 'GIR SOMNATH': 229, 'GIRIDIH': 230, 'GOALPARA': 231, 'GODDA': 232, 'GOLAGHAT': 233, 'GOMATI': 234, 'GONDA': 235, 'GONDIA': 236, 'GOPALGANJ': 237, 'GORAKHPUR': 238, 'GULBARGA': 239, 'GUMLA': 240, 'GUNA': 241, 'GUNTUR': 242, 'GURDASPUR': 243, 'GURGAON': 244, 'GWALIOR': 245, 'Goa': 246, 'HAILAKANDI': 247, 'HAMIRPUR': 248, 'HANUMAKONDA': 249, 'HANUMANGARH': 250, 'HAPUR': 251, 'HARDA': 252, 'HARDOI': 253, 'HARIDWAR': 254, 'HASSAN': 255, 'HATHRAS': 256, 'HAVERI': 257, 'HAZARIBAGH': 258, 'HINGOLI': 259, 'HISAR': 260, 'HOJAI': 261, 'HOOGHLY': 262, 'HOSHANGABAD': 263, 'HOSHIARPUR': 264, 'HOWRAH': 265, 'HYDERABAD': 266, 'IDUKKI': 267, 'IMPHAL EAST': 268, 'IMPHAL WEST': 269, 'INDORE': 270, 'JABALPUR': 271, 'JAGATSINGHAPUR': 272, 'JAGITIAL': 273, 'JAIPUR': 274, 'JAISALMER': 275, 'JAJAPUR': 276, 'JALANDHAR': 277, 'JALAUN': 278, 'JALGAON': 279, 'JALNA': 280, 'JALORE': 281, 'JALPAIGURI': 282, 'JAMMU': 283, 'JAMNAGAR': 284, 'JAMTARA': 285, 'JAMUI': 286, 'JANGOAN': 287, 'JANJGIR-CHAMPA': 288, 'JASHPUR': 289, 'JAUNPUR': 290, 'JAYASHANKAR': 291, 'JEHANABAD': 292, 'JHABUA': 293, 'JHAJJAR': 294, 'JHALAWAR': 295, 'JHANSI': 296, 'JHARGRAM': 297, 'JHARSUGUDA': 298, 'JHUNJHUNU': 299, 'JIND': 300, 'JODHPUR': 301, 'JOGULAMBA': 302, 'JORHAT': 303, 'JUNAGADH': 304, 'KABIRDHAM': 305, 'KACHCHH': 306, 'KADAPA': 307, 'KAIMUR (BHABUA)': 308, 'KAITHAL': 309, 'KALABURAGI': 310, 'KALAHANDI': 311, 'KALIMPONG': 312, 'KALLAKURICHI': 313, 'KAMAREDDY': 314, 'KAMLE': 315, 'KAMRUP': 316, 'KAMRUP METRO': 317, 'KANCHIPURAM': 318, 'KANDHAMAL': 319, 'KANGRA': 320, 'KANKER': 321, 'KANNAUJ': 322, 'KANNIYAKUMARI': 323, 'KANNUR': 324, 'KANPUR DEHAT': 325, 'KANPUR NAGAR': 326, 'KAPURTHALA': 327, 'KARAIKAL': 328, 'KARAULI': 329, 'KARBI ANGLONG': 330, 'KARGIL': 331, 'KARIMGANJ': 332, 'KARIMNAGAR': 333, 'KARNAL': 334, 'KARUR': 335, 'KASARAGOD': 336, 'KASGANJ': 337, 'KATHUA': 338, 'KATIHAR': 339, 'KATNI': 340, 'KAUSHAMBI': 341, 'KENDRAPARA': 342, 'KENDUJHAR': 343, 'KHAGARIA': 344, 'KHAMMAM': 345, 'KHANDWA': 346, 'KHARGONE': 347, 'KHEDA': 348, 'KHERI': 349, 'KHORDHA': 350, 'KHOWAI': 351, 'KHUNTI': 352, 'KINNAUR': 353, 'KIPHIRE': 354, 'KISHANGANJ': 355, 'KISHTWAR': 356, 'KODAGU': 357, 'KODERMA': 358, 'KOHIMA': 359, 'KOKRAJHAR': 360, 'KOLAR': 361, 'KOLASIB': 362, 'KOLHAPUR': 363, 'KOLLAM': 364, 'KOMARAM BHEEM ASIFABAD': 365, 'KONDAGAON': 366, 'KOPPAL': 367, 'KORAPUT': 368, 'KORBA': 369, 'KOREA': 370, 'KOTA': 371, 'KOTTAYAM': 372, 'KOZHIKODE': 373, 'KRA DAADI': 374, 'KRISHNA': 375, 'KRISHNAGIRI': 376, 'KULGAM': 377, 'KULLU': 378, 'KUPWARA': 379, 'KURNOOL': 380, 'KURUKSHETRA': 381, 'KURUNG KUMEY': 382, 'KUSHI NAGAR': 383, 'LAHUL AND SPITI': 384, 'LAKHIMPUR': 385, 'LAKHISARAI': 386, 'LALITPUR': 387, 'LATEHAR': 388, 'LATUR': 389, 'LAWNGTLAI': 390, 'LEH LADAKH': 391, 'LEPARADA': 392, 'LOHARDAGA': 393, 'LOHIT': 394, 'LONGDING': 395, 'LONGLENG': 396, 'LOWER DIBANG VALLEY': 397, 'LOWER SIANG': 398, 'LOWER SUBANSIRI': 399, 'LUCKNOW': 400, 'LUDHIANA': 401, 'LUNGLEI': 402, 'MADHEPURA': 403, 'MADHUBANI': 404, 'MADURAI': 405, 'MAHABUBABAD': 406, 'MAHARAJGANJ': 407, 'MAHASAMUND': 408, 'MAHBUBNAGAR': 409, 'MAHE': 410, 'MAHENDRAGARH': 411, 'MAHESANA': 412, 'MAHISAGAR': 413, 'MAHOBA': 414, 'MAINPURI': 415, 'MAJULI': 416, 'MALAPPURAM': 417, 'MALDAH': 418, 'MALKANGIRI': 419, 'MAMIT': 420, 'MANCHERIAL': 421, 'MANDI': 422, 'MANDLA': 423, 'MANDSAUR': 424, 'MANDYA': 425, 'MANSA': 426, 'MARIGAON': 427, 'MATHURA': 428, 'MAU': 429, 'MAYURBHANJ': 430, 'MEDAK': 431, 'MEDCHAL': 432, 'MEDCHAL MALKAJGIRI': 433, 'MEDINIPUR EAST': 434, 'MEDINIPUR WEST': 435, 'MEERUT': 436, 'MEWAT': 437, 'MIRZAPUR': 438, 'MOGA': 439, 'MOKOKCHUNG': 440, 'MON': 441, 'MORADABAD': 442, 'MORBI': 443, 'MORENA': 444, 'MUKTSAR': 445, 'MULUGU': 446, 'MUMBAI': 447, 'MUMBAI SUBURBAN': 448, 'MUNGELI': 449, 'MUNGER': 450, 'MURSHIDABAD': 451, 'MUZAFFARNAGAR': 452, 'MUZAFFARPUR': 453, 'MYSORE': 454, 'MYSURU': 455, 'NABARANGPUR': 456, 'NADIA': 457, 'NAGAON': 458, 'NAGAPATTINAM': 459, 'NAGARKURNOOL': 460, 'NAGAUR': 461, 'NAGPUR': 462, 'NAINITAL': 463, 'NALANDA': 464, 'NALBARI': 465, 'NALGONDA': 466, 'NAMAKKAL': 467, 'NAMSAI': 468, 'NANDED': 469, 'NANDURBAR': 470, 'NARAYANAPET': 471, 'NARAYANPUR': 472, 'NARMADA': 473, 'NARSINGHPUR': 474, 'NASHIK': 475, 'NAVSARI': 476, 'NAWADA': 477, 'NAWANSHAHR': 478, 'NAYAGARH': 479, 'NEEMUCH': 480, 'NICOBARS': 481, 'NIRMAL': 482, 'NIWARI': 483, 'NIZAMABAD': 484, 'NORTH AND MIDDLE ANDAMAN': 485, 'NORTH DISTRICT': 486, 'NORTH GARO HILLS': 487, 'NORTH GOA': 488, 'NORTH TRIPURA': 489, 'NUAPADA': 490, 'OSMANABAD': 491, 'PAKKE KESSANG': 492, 'PAKUR': 493, 'PALAKKAD': 494, 'PALAMU': 495, 'PALGHAR': 496, 'PALI': 497, 'PALWAL': 498, 'PANCH MAHALS': 499, 'PANCHKULA': 500, 'PANIPAT': 501, 'PANNA': 502, 'PAPUM PARE': 503, 'PARBHANI': 504, 'PASCHIM BARDHAMAN': 505, 'PASHCHIM CHAMPARAN': 506, 'PATAN': 507, 'PATHANAMTHITTA': 508, 'PATHANKOT': 509, 'PATIALA': 510, 'PATNA': 511, 'PAURI GARHWAL': 512, 'PEDDAPALLI': 513, 'PERAMBALUR': 514, 'PEREN': 515, 'PHEK': 516, 'PILIBHIT': 517, 'PITHORAGARH': 518, 'PONDICHERRY': 519, 'POONCH': 520, 'PORBANDAR': 521, 'PRAKASAM': 522, 'PRATAPGARH': 523, 'PUDUKKOTTAI': 524, 'PULWAMA': 525, 'PUNE': 526, 'PURBA BARDHAMAN': 527, 'PURBI CHAMPARAN': 528, 'PURI': 529, 'PURNIA': 530, 'PURULIA': 531, 'RAE BARELI': 532, 'RAICHUR': 533, 'RAIGAD': 534, 'RAIGARH': 535, 'RAIPUR': 536, 'RAISEN': 537, 'RAJANNA': 538, 'RAJAURI': 539, 'RAJGARH': 540, 'RAJKOT': 541, 'RAJNANDGAON': 542, 'RAJSAMAND': 543, 'RAMANAGARA': 544, 'RAMANATHAPURAM': 545, 'RAMBAN': 546, 'RAMGARH': 547, 'RAMPUR': 548, 'RANCHI': 549, 'RANGAREDDI': 550, 'RANIPET': 551, 'RATLAM': 552, 'RATNAGIRI': 553, 'RAYAGADA': 554, 'REASI': 555, 'REWA': 556, 'REWARI': 557, 'RI BHOI': 558, 'ROHTAK': 559, 'ROHTAS': 560, 'RUDRA PRAYAG': 561, 'RUPNAGAR': 562, 'S': 563, 'SABAR KANTHA': 564, 'SAGAR': 565, 'SAHARANPUR': 566, 'SAHARSA': 567, 'SAHEBGANJ': 568, 'SAIHA': 569, 'SALEM': 570, 'SAMASTIPUR': 571, 'SAMBA': 572, 'SAMBALPUR': 573, 'SAMBHAL': 574, 'SANGAREDDY': 575, 'SANGLI': 576, 'SANGRUR': 577, 'SANT KABEER NAGAR': 578, 'SANT RAVIDAS NAGAR': 579, 'SARAIKELA KHARSAWAN': 580, 'SARAN': 581, 'SATARA': 582, 'SATNA': 583, 'SAWAI MADHOPUR': 584, 'SEHORE': 585, 'SENAPATI': 586, 'SEONI': 587, 'SEPAHIJALA': 588, 'SERCHHIP': 589, 'SHAHDOL': 590, 'SHAHID BHAGAT SINGH NAGAR': 591, 'SHAHJAHANPUR': 592, 'SHAJAPUR': 593, 'SHAMLI': 594, 'SHEIKHPURA': 595, 'SHEOHAR': 596, 'SHEOPUR': 597, 'SHI YOMI': 598, 'SHIMLA': 599, 'SHIMOGA': 600, 'SHIVAMOGGA': 601, 'SHIVPURI': 602, 'SHOPIAN': 603, 'SHRAVASTI': 604, 'SIANG': 605, 'SIDDHARTH NAGAR': 606, 'SIDDIPET': 607, 'SIDHI': 608, 'SIKAR': 609, 'SIMDEGA': 610, 'SINDHUDURG': 611, 'SINGRAULI': 612, 'SIRMAUR': 613, 'SIROHI': 614, 'SIRSA': 615, 'SITAMARHI': 616, 'SITAPUR': 617, 'SIVAGANGA': 618, 'SIVASAGAR': 619, 'SIWAN': 620, 'SOLAN': 621, 'SOLAPUR': 622, 'SONBHADRA': 623, 'SONEPUR': 624, 'SONIPAT': 625, 'SONITPUR': 626, 'SOUTH ANDAMANS': 627, 'SOUTH DISTRICT': 628, 'SOUTH GARO HILLS': 629, 'SOUTH GOA': 630, 'SOUTH SALMARA MANCACHAR': 631, 'SOUTH TRIPURA': 632, 'SOUTH WEST GARO HILLS': 633, 'SOUTH WEST KHASI HILLS': 634, 'SPSR NELLORE': 635, 'SRIKAKULAM': 636, 'SRINAGAR': 637, 'SUKMA': 638, 'SULTANPUR': 639, 'SUNDARGARH': 640, 'SUPAUL': 641, 'SURAJPUR': 642, 'SURAT': 643, 'SURENDRANAGAR': 644, 'SURGUJA': 645, 'SURYAPET': 646, 'TAMENGLONG': 647, 'TAPI': 648, 'TARN TARAN': 649, 'TAWANG': 650, 'TEHRI GARHWAL': 651, 'TENKASI': 652, 'THANE': 653, 'THANJAVUR': 654, 'THE NILGIRIS': 655, 'THENI': 656, 'THIRUVALLUR': 657, 'THIRUVANANTHAPURAM': 658, 'THIRUVARUR': 659, 'THOOTHUKUDI': 660, 'THOUBAL': 661, 'THRISSUR': 662, 'TIKAMGARH': 663, 'TINSUKIA': 664, 'TIRAP': 665, 'TIRUCHIRAPPALLI': 666, 'TIRUNELVELI': 667, 'TIRUPATHUR': 668, 'TIRUPPUR': 669, 'TIRUVANNAMALAI': 670, 'TONK': 671, 'TUENSANG': 672, 'TUMAKURU': 673, 'TUMKUR': 674, 'TUTICORIN': 675, 'UDAIPUR': 676, 'UDALGURI': 677, 'UDAM SINGH NAGAR': 678, 'UDHAMPUR': 679, 'UDUPI': 680, 'UJJAIN': 681, 'UKHRUL': 682, 'UMARIA': 683, 'UNA': 684, 'UNAKOTI': 685, 'UNNAO': 686, 'UPPER SIANG': 687, 'UPPER SUBANSIRI': 688, 'UTTAR KANNAD': 689, 'UTTAR KASHI': 690, 'UTTARA KANNADA': 691, 'VADODARA': 692, 'VAISHALI': 693, 'VALSAD': 694, 'VARANASI': 695, 'VELLORE': 696, 'VIDISHA': 697, 'VIJAYAPURA': 698, 'VIKARABAD': 699, 'VILLUPURAM': 700, 'VIRUDHUNAGAR': 701, 'VISAKHAPATANAM': 702, 'VIZIANAGARAM': 703, 'WANAPARTHY': 704, 'WARANGAL': 705, 'WARANGAL URBAN': 706, 'WARDHA': 707, 'WASHIM': 708, 'WAYANAD': 709, 'WEST DISTRICT': 710, 'WEST GARO HILLS': 711, 'WEST GODAVARI': 712, 'WEST JAINTIA HILLS': 713, 'WEST KAMENG': 714, 'WEST KARBI ANGLONG': 715, 'WEST KHASI HILLS': 716, 'WEST SIANG': 717, 'WEST SINGHBHUM': 718, 'WEST TRIPURA': 719, 'WOKHA': 720, 'YADADRI': 721, 'YADAGIRI': 722, 'YADGIR': 723, 'YAMUNANAGAR': 724, 'YANAM': 725, 'YAVATMAL': 726, 'ZUNHEBOTO': 727}\n",
            "{'Arecanut': 0, 'Arhar/Tur': 1, 'Bajra': 2, 'Banana': 3, 'Barley': 4, 'Black pepper': 5, 'Cardamom': 6, 'Cashewnut': 7, 'Castor seed': 8, 'Coconut': 9, 'Coriander': 10, 'Cotton(lint)': 11, 'Cowpea(Lobia)': 12, 'Dry Ginger': 13, 'Dry chillies': 14, 'Garlic': 15, 'Ginger': 16, 'Gram': 17, 'Groundnut': 18, 'Guar seed': 19, 'Horse-gram': 20, 'Jowar': 21, 'Jute': 22, 'Khesari': 23, 'Linseed': 24, 'Maize': 25, 'Masoor': 26, 'Mesta': 27, 'Moong(Green Gram)': 28, 'Moth': 29, 'Niger seed': 30, 'Oilseeds total': 31, 'Onion': 32, 'Other Cereals': 33, 'Other Kharif pulses': 34, 'Other Rabi pulses': 35, 'Other Summer Pulses': 36, 'Peas & beans (Pulses)': 37, 'Potato': 38, 'Ragi': 39, 'Rapeseed &Mustard': 40, 'Rice': 41, 'Safflower': 42, 'Sannhamp': 43, 'Sesamum': 44, 'Small millets': 45, 'Soyabean': 46, 'Sugarcane': 47, 'Sunflower': 48, 'Sweet potato': 49, 'Tapioca': 50, 'Tobacco': 51, 'Turmeric': 52, 'Urad': 53, 'Wheat': 54, 'other oilseeds': 55}\n",
            "{'Autumn': 0, 'Kharif': 1, 'Rabi': 2, 'Summer': 3, 'Whole Year': 4, 'Winter': 5}\n"
          ]
        }
      ]
    }
  ]
}